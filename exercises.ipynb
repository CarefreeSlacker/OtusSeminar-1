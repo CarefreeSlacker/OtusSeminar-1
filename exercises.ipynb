{
 "cells": [
  {
   "cell_type": "code",
   "execution_count": 7,
   "metadata": {},
   "outputs": [
    {
     "ename": "SyntaxError",
     "evalue": "invalid syntax (<ipython-input-7-d261228f1f91>, line 1)",
     "traceback": [
      "\u001b[0;36m  File \u001b[0;32m\"<ipython-input-7-d261228f1f91>\"\u001b[0;36m, line \u001b[0;32m1\u001b[0m\n\u001b[0;31m    def check(ar)\u001b[0m\n\u001b[0m                 ^\u001b[0m\n\u001b[0;31mSyntaxError\u001b[0m\u001b[0;31m:\u001b[0m invalid syntax\n"
     ],
     "output_type": "error"
    }
   ],
   "source": [
    "# Задание 1\n",
    "def check(ar)\n",
    "    full_set = set(range(1, len(ar) + 1))\n",
    "    initial_set = set(ar)\n",
    "    return full_set.difference(full_set)"
   ]
  },
  {
   "cell_type": "code",
   "execution_count": 21,
   "metadata": {},
   "outputs": [],
   "source": [
    "# Задание 2 связанные списки\n",
    "class LinkedList:\n",
    "    def __init__(self, head, tail=None):\n",
    "        self.head = head\n",
    "        self.tail = tail\n",
    "\n",
    "    def print_values(self):\n",
    "        init_value = self\n",
    "        print(self.head)\n",
    "        while(init_value.tail):\n",
    "            init_value = init_value.tail\n",
    "            print(init_value.head)\n",
    "\n",
    "    def reverse(self):\n",
    "        values = []\n",
    "        init_value = self\n",
    "        while(init_value.tail):\n",
    "            values += [init_value.head]\n",
    "            init_value.tail\n",
    "\n",
    "        values.reverse()\n",
    "        result = None\n",
    "        for v in values:\n",
    "            result = LinkedList(v, result)\n",
    "            \n",
    "        return result"
   ]
  },
  {
   "cell_type": "code",
   "execution_count": null,
   "metadata": {},
   "outputs": [
    {
     "name": "stdout",
     "output_type": "stream",
     "text": [
      "2\n1\nNone\n"
     ]
    }
   ],
   "source": [
    ""
   ]
  },
  {
   "cell_type": "code",
   "execution_count": 18,
   "metadata": {},
   "outputs": [
    {
     "name": "stdout",
     "output_type": "stream",
     "text": [
      "[3, 2, 1]\n"
     ]
    }
   ],
   "source": [
    "\n"
   ]
  },
  {
   "cell_type": "code",
   "execution_count": null,
   "metadata": {},
   "outputs": [],
   "source": [
    "l1 = LinkedList(1)\n",
    "l2 = LinkedList(2, l1)\n",
    "print(l2.print_values())\n",
    "l3 = l2.reverse()"
   ]
  }
 ],
 "metadata": {},
 "nbformat": 4,
 "nbformat_minor": 0
}
